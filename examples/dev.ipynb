{
 "cells": [
  {
   "cell_type": "code",
   "execution_count": null,
   "metadata": {},
   "outputs": [],
   "source": [
    "from ipyturtle2 import TurtleWidget\n",
    "t = TurtleWidget(500, 500)\n",
    "t\n"
   ]
  },
  {
   "cell_type": "code",
   "execution_count": null,
   "metadata": {},
   "outputs": [],
   "source": [
    "t.reset()\n",
    "# t.color('red', 'yellow')\n",
    "# t.begin_fill()\n",
    "t.begin_animation()\n",
    "t.circle(60, 90)\n",
    "# t.circle(-60, 90)\n",
    "# t.forward(100)\n",
    "# t.circle(60, -90)\n",
    "t.circle(-60, -90)"
   ]
  },
  {
   "cell_type": "code",
   "execution_count": null,
   "metadata": {},
   "outputs": [],
   "source": [
    "t.reset()\n",
    "t.color('red', 'yellow')\n",
    "t.begin_fill()\n",
    "t.begin_animation()\n",
    "# t.left(580)\n",
    "t.circle(20, 180)\n",
    "t.left(580)\n",
    "# t.hideturtle()\n",
    "t.spiral_forward(150, 2.1, 0.015, 6)\n",
    "# t.showturtle()\n",
    "t.end_fill()"
   ]
  },
  {
   "cell_type": "code",
   "execution_count": null,
   "metadata": {},
   "outputs": [],
   "source": [
    "t.reset()\n",
    "t.begin_animation()\n",
    "t.color('red', 'yellow')\n",
    "t.position()\n",
    "t.begin_fill()\n",
    "while True:\n",
    "    t.forward(100)\n",
    "    t.left(170)\n",
    "    if t.abs(t.position()) < 1:\n",
    "        break\n",
    "t.end_fill()"
   ]
  },
  {
   "cell_type": "code",
   "execution_count": null,
   "metadata": {},
   "outputs": [],
   "source": [
    "t.forward(100)"
   ]
  },
  {
   "cell_type": "code",
   "execution_count": null,
   "metadata": {},
   "outputs": [],
   "source": [
    "t.reset()\n",
    "t.forward(100)\n",
    "t.color('red', 'yellow')\n",
    "t.begin_fill()\n",
    "t.end_animation()\n",
    "t.dot(10, 'red')\n",
    "t.spiral_circle(10, 5,5,90)\n",
    "t.end_fill()\n",
    "t.write('hellow')"
   ]
  },
  {
   "cell_type": "code",
   "execution_count": null,
   "metadata": {},
   "outputs": [],
   "source": [
    "t.forward(100)"
   ]
  },
  {
   "cell_type": "code",
   "execution_count": null,
   "metadata": {},
   "outputs": [],
   "source": [
    "t.write('1')\n",
    "t.forward(100)\n",
    "t.write('hellow')"
   ]
  },
  {
   "cell_type": "code",
   "execution_count": null,
   "metadata": {},
   "outputs": [],
   "source": [
    "t.pencolor('red')\n",
    "t.write('hellowhellowhellow', False, 'center', (\"serif\", 20, \"bold\"))"
   ]
  },
  {
   "cell_type": "code",
   "execution_count": null,
   "metadata": {},
   "outputs": [],
   "source": []
  },
  {
   "cell_type": "code",
   "execution_count": null,
   "metadata": {},
   "outputs": [],
   "source": []
  }
 ],
 "metadata": {
  "kernelspec": {
   "display_name": "Python 3",
   "language": "python",
   "name": "python3"
  },
  "language_info": {
   "codemirror_mode": {
    "name": "ipython",
    "version": 3
   },
   "file_extension": ".py",
   "mimetype": "text/x-python",
   "name": "python",
   "nbconvert_exporter": "python",
   "pygments_lexer": "ipython3",
   "version": "3.8.3"
  }
 },
 "nbformat": 4,
 "nbformat_minor": 4
}
