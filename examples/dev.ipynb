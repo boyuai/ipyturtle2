{
 "cells": [
  {
   "cell_type": "code",
   "execution_count": 58,
   "metadata": {},
   "outputs": [],
   "source": [
    "# t.reset()\n",
    "# t.spiral_circle(15, 5, 5, 45)\n",
    "\n",
    "# t.forward(50)\n",
    "# t._turtle_heading\n",
    "# t.circle(20, 180)\n",
    "# t.left(90)\n",
    "# t.goto(20, 40)"
   ]
  },
  {
   "cell_type": "code",
   "execution_count": 75,
   "metadata": {},
   "outputs": [
    {
     "data": {
      "application/vnd.jupyter.widget-view+json": {
       "model_id": "9f876d3dfddc4e989bb80f218baa49cf",
       "version_major": 2,
       "version_minor": 0
      },
      "text/plain": [
       "TurtleWidget()"
      ]
     },
     "metadata": {},
     "output_type": "display_data"
    }
   ],
   "source": [
    "from ipyturtle2 import TurtleWidget\n",
    "t = TurtleWidget(500, 500)\n",
    "t\n"
   ]
  },
  {
   "cell_type": "code",
   "execution_count": null,
   "metadata": {},
   "outputs": [],
   "source": [
    "t.reset()\n",
    "t.color('red', 'yellow')\n",
    "# t.forward(10)\n",
    "t.left(493)\n",
    "t.begin_fill()\n",
    "# t.circle(20, 180)\n",
    "# t.circle(80)\n",
    "# t.hideturtle()\n",
    "t.spiral_forward(150, 2.1, 0.015, 6)\n",
    "t.end_fill()"
   ]
  },
  {
   "cell_type": "code",
   "execution_count": 70,
   "metadata": {},
   "outputs": [],
   "source": [
    "t.color('red', 'yellow')\n",
    "t.position()\n",
    "t.begin_fill()\n",
    "while True:\n",
    "    t.forward(100)\n",
    "    t.left(170)\n",
    "    if t.abs(t.position()) < 1:\n",
    "        break\n",
    "t.end_fill()"
   ]
  },
  {
   "cell_type": "code",
   "execution_count": 9,
   "metadata": {},
   "outputs": [],
   "source": [
    "t.forward(100)"
   ]
  },
  {
   "cell_type": "code",
   "execution_count": 4,
   "metadata": {},
   "outputs": [],
   "source": [
    "t.forward(100)\n",
    "t.color('red', 'yellow')\n",
    "t.begin_fill()\n",
    "t.dot(10, 'red')\n",
    "t.spiral_circle(10, 5,5,90)\n",
    "t.end_fill()\n",
    "t.write('hellow')"
   ]
  },
  {
   "cell_type": "code",
   "execution_count": 91,
   "metadata": {},
   "outputs": [],
   "source": [
    "t.forward(100)"
   ]
  },
  {
   "cell_type": "code",
   "execution_count": 31,
   "metadata": {},
   "outputs": [],
   "source": [
    "t.write('1')\n",
    "t.forward(100)\n",
    "t.write('hellow')"
   ]
  },
  {
   "cell_type": "code",
   "execution_count": 47,
   "metadata": {},
   "outputs": [],
   "source": [
    "t.pencolor('red')\n",
    "t.write('hellowhellowhellow', False, 'center', (\"serif\", 20, \"bold\"))"
   ]
  },
  {
   "cell_type": "code",
   "execution_count": null,
   "metadata": {},
   "outputs": [],
   "source": []
  },
  {
   "cell_type": "code",
   "execution_count": null,
   "metadata": {},
   "outputs": [],
   "source": []
  }
 ],
 "metadata": {
  "kernelspec": {
   "display_name": "Python 3",
   "language": "python",
   "name": "python3"
  },
  "language_info": {
   "codemirror_mode": {
    "name": "ipython",
    "version": 3
   },
   "file_extension": ".py",
   "mimetype": "text/x-python",
   "name": "python",
   "nbconvert_exporter": "python",
   "pygments_lexer": "ipython3",
   "version": "3.8.3"
  }
 },
 "nbformat": 4,
 "nbformat_minor": 4
}
